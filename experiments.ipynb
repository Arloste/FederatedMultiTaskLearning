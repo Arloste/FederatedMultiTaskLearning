{
 "cells": [
  {
   "cell_type": "markdown",
   "source": [
    "# UCI HAR Dataset"
   ],
   "metadata": {
    "collapsed": false
   },
   "id": "dddbdd64a8c13afa"
  },
  {
   "cell_type": "markdown",
   "source": [
    "## Data reading and processing"
   ],
   "metadata": {
    "collapsed": false
   },
   "id": "8efb31f3f7d82aa6"
  },
  {
   "cell_type": "code",
   "execution_count": 1,
   "outputs": [],
   "source": [
    "import pandas as pd\n",
    "import os\n",
    "\n",
    "# Setup the data directory paths\n",
    "data_dir = 'data/human activity recognition using smartphones/UCI HAR Dataset'\n",
    "train_dir = os.path.join(data_dir, 'train')\n",
    "test_dir = os.path.join(data_dir, 'test')\n",
    "\n",
    "# Load the datasets\n",
    "train_set = pd.read_table(os.path.join(train_dir, 'X_train.txt'), delim_whitespace=True, header=None)\n",
    "train_labels = pd.read_table(os.path.join(train_dir, 'y_train.txt'), delim_whitespace=True, header=None)\n",
    "train_clients = pd.read_table(os.path.join(train_dir, 'subject_train.txt'), delim_whitespace=True, header=None)\n",
    "\n",
    "test_set = pd.read_table(os.path.join(test_dir, 'X_test.txt'), delim_whitespace=True, header=None)\n",
    "test_labels = pd.read_table(os.path.join(test_dir, 'y_test.txt'), delim_whitespace=True, header=None)\n",
    "test_clients = pd.read_table(os.path.join(test_dir, 'subject_test.txt'), delim_whitespace=True, header=None)"
   ],
   "metadata": {
    "collapsed": false,
    "ExecuteTime": {
     "end_time": "2023-12-18T00:40:36.952480458Z",
     "start_time": "2023-12-18T00:40:35.477046179Z"
    }
   },
   "id": "97e72f5f4874be17"
  },
  {
   "cell_type": "code",
   "execution_count": 2,
   "outputs": [
    {
     "name": "stdout",
     "output_type": "stream",
     "text": [
      "(7352, 2)\n",
      "(7352, 563)\n"
     ]
    }
   ],
   "source": [
    "df_conc = pd.DataFrame({\"Clients\":train_clients[0],\n",
    "                        \"labels\": train_labels[0]})\n",
    "print(df_conc.shape)\n",
    "df_conc = pd.concat([df_conc, train_set], axis=1)\n",
    "print(df_conc.shape)"
   ],
   "metadata": {
    "collapsed": false,
    "ExecuteTime": {
     "end_time": "2023-12-18T00:40:36.965940234Z",
     "start_time": "2023-12-18T00:40:36.955466901Z"
    }
   },
   "id": "ffef2654dd42d090"
  },
  {
   "cell_type": "code",
   "execution_count": 3,
   "outputs": [],
   "source": [
    "from sklearn.model_selection import train_test_split\n",
    "import numpy as np\n",
    "\n",
    "def split_data(data_set, labels, clients, test_size_ratio, no_clients):\n",
    "    \"\"\"\n",
    "    Splits data into training and testing sets for each client.\n",
    "\n",
    "    :param data_set: The input data set.\n",
    "    :param labels: The labels corresponding to the input data set.\n",
    "    :param clients: The client IDs for each data point.\n",
    "    :param test_size_ratio: The ratio of the test set size to the original data set size.\n",
    "    :param no_clients: The number of clients.\n",
    "\n",
    "    :return: Four lists containing the training and testing sets for each client:\n",
    "             x_train - input data for training,\n",
    "             y_train - corresponding labels for training,\n",
    "             x_test - input data for testing,\n",
    "             y_test - corresponding labels for testing.\n",
    "    \"\"\"\n",
    "    x_train, y_train = [], []\n",
    "    x_test, y_test = [], []\n",
    "\n",
    "    for t in range(no_clients):\n",
    "        idx = clients[clients[0] == (t + 1)].index\n",
    "        client_data = data_set.iloc[idx].values\n",
    "        client_labels = labels.iloc[idx].values.squeeze()\n",
    "\n",
    "        # Split data for the current client\n",
    "        x_train_client, x_test_client, y_train_client, y_test_client = train_test_split(\n",
    "            client_data, client_labels, test_size=test_size_ratio, random_state=42\n",
    "        )\n",
    "\n",
    "        # Append data for the current client to the overall training and testing sets\n",
    "        x_train.append(x_train_client)\n",
    "        y_train.append(y_train_client)\n",
    "        x_test.append(x_test_client)\n",
    "        y_test.append(y_test_client)\n",
    "\n",
    "    return x_train, y_train, x_test, y_test"
   ],
   "metadata": {
    "collapsed": false,
    "ExecuteTime": {
     "end_time": "2023-12-17T17:47:37.504127415Z",
     "start_time": "2023-12-17T17:47:37.469062525Z"
    }
   },
   "id": "a89d8b36e15306cc"
  },
  {
   "cell_type": "markdown",
   "source": [
    "## Comparison"
   ],
   "metadata": {
    "collapsed": false
   },
   "id": "1408886f4edb9686"
  },
  {
   "cell_type": "markdown",
   "source": [
    "### Local vs Gloabl vs MTL Experiment"
   ],
   "metadata": {
    "collapsed": false
   },
   "id": "778170de8bf6295c"
  },
  {
   "cell_type": "code",
   "execution_count": 37,
   "outputs": [],
   "source": [
    "# same as original experiments\n",
    "opts = {\n",
    "    \"obj\":\"C\",\n",
    "    \"sys_het\":False,\n",
    "    \"avg\": True,\n",
    "    \"top\":1,\n",
    "    \"bottom\":0.1,\n",
    "    \"mocha_outer_iters\":1,\n",
    "    \"mocha_inner_iters\":20,\n",
    "    \"mocha_sdca_frac\":1,\n",
    "    \"update\":1,\n",
    "    \"mbsgd_outer_iters\":1,\n",
    "    \"mbsgd_inner_iters\":50,\n",
    "    \"mbsgd_sgd_frac\":0.5,\n",
    "    \"mbsgd_scaling\":0.1,\n",
    "    \"max_sdca_iters\":10\n",
    "}"
   ],
   "metadata": {
    "collapsed": false,
    "ExecuteTime": {
     "end_time": "2023-12-18T02:34:57.911402698Z",
     "start_time": "2023-12-18T02:34:57.747981736Z"
    }
   },
   "id": "60c9df57e4494f3a"
  },
  {
   "cell_type": "code",
   "execution_count": 38,
   "outputs": [
    {
     "data": {
      "text/plain": "<Figure size 640x480 with 1 Axes>",
      "image/png": "[encoded data removed]"
     },
     "metadata": {},
     "output_type": "display_data"
    }
   ],
   "source": [
    "from opt.mocha import run_mocha\n",
    "from opt.mbsgd import run_mbsgd\n",
    "from opt.baseline import local_model,global_model\n",
    "import matplotlib.pyplot as plt\n",
    "\n",
    "def run_trails(set, labels, clients, n_trails=10):\n",
    "    \"\"\"\n",
    "    :param set: The dataset used for training and testing.\n",
    "    :param labels: The labels corresponding to the dataset.\n",
    "    :param clients: The list of clients representing the partitioned data.\n",
    "    :param n_trails: The number of times to repeat the training and testing process. Defaults to 10.\n",
    "    :return: When successful, returns the mean error values for different models. Otherwise, returns the error values for each trial.\n",
    "\n",
    "    \"\"\"\n",
    "     lambda_values = [1e-5, 1e-4, 1e-3, 1e-2, 0.1, 1, 10]\n",
    "     \n",
    "    \n",
    "     best_local=[]\n",
    "     best_global=[]\n",
    "     best_mbsdg_mtl=[]\n",
    "     best_mocha_mtl=[]\n",
    "     for _ in range(n_trails):\n",
    "         Xtrain, ytrain, Xtest, ytest = split_data(set, labels, clients, 0.25, 30)\n",
    "         err_local=[]\n",
    "         err_global=[]\n",
    "         err_mbsdg_mtl=[]\n",
    "         err_mocha_mtl=[]\n",
    "         for lambda_ in lambda_values:\n",
    "             err_local.append(local_model(Xtrain, ytrain , Xtest, ytest, lambda_, opts) )\n",
    "             err_global.append(global_model(Xtrain, ytrain , Xtest, ytest, lambda_, opts))\n",
    "             rmse, _, _, _ = run_mocha( Xtrain, ytrain, Xtest, ytest, lambda_, problem_type='C',opts=opts )\n",
    "             err_mocha_mtl.append(rmse[-1])\n",
    "             rmse,_, _ = run_mbsgd( Xtrain, ytrain, Xtest, ytest, lambda_,opts=opts )\n",
    "             err_mbsdg_mtl.append(rmse[-1])\n",
    "        \n",
    "         try:\n",
    "             best_local.append(min(err_local))\n",
    "             best_global.append(min(err_global))\n",
    "             best_mocha_mtl.append(min(err_mocha_mtl))\n",
    "             best_mbsdg_mtl.append(min(err_mbsdg_mtl))\n",
    "         except:\n",
    "             return err_global, err_local, err_mbsdg_mtl, err_mocha_mtl\n",
    "    \n",
    "    \n",
    "         try:\n",
    "             mean_values = {\"global\":round(np.mean(best_global),2), \n",
    "                            \"local\": round(np.mean(best_local),2), \n",
    "                            \"mocha MTL\":round(np.mean(best_mocha_mtl),2), \n",
    "                            \"mbsgd MTL\" : round(np.mean(best_mbsdg_mtl),2)}\n",
    "         except:\n",
    "             return best_local, best_global, best_mbsdg_mtl, best_mocha_mtl\n",
    "   \n",
    "     \n",
    "     \n",
    "     fig, ax = plt.subplots()\n",
    "    # turn off axis\n",
    "     plt.axis('off')\n",
    "    # title of the table\n",
    "     ax.set_title('Mean Error Values', fontsize=16, weight='bold')\n",
    "    \n",
    "     table_data=[]\n",
    "     for key, value in mean_values.items():\n",
    "         table_data.append([key, value])\n",
    "    \n",
    "     table = ax.table(cellText=table_data, loc='center')\n",
    "    \n",
    "     table.auto_set_font_size(False)\n",
    "     table.set_fontsize(14)\n",
    "    # setup layout\n",
    "     table.scale(1, 1.5)\n",
    "     plt.show()\n",
    "     \n",
    "\n",
    "run_trails(pd.concat([train_set, test_set]), pd.concat([train_labels, test_labels]), pd.concat([train_clients, test_clients]))\n",
    "         "
   ],
   "metadata": {
    "collapsed": false,
    "ExecuteTime": {
     "end_time": "2023-12-18T02:48:22.135881762Z",
     "start_time": "2023-12-18T02:34:57.962086393Z"
    }
   },
   "id": "9fd89e6a75e3a70d"
  },
  {
   "cell_type": "code",
   "execution_count": null,
   "outputs": [],
   "source": [],
   "metadata": {
    "collapsed": false
   },
   "id": "7feac8206495e3cf"
  }
 ],
 "metadata": {
  "kernelspec": {
   "display_name": "Python 3",
   "language": "python",
   "name": "python3"
  },
  "language_info": {
   "codemirror_mode": {
    "name": "ipython",
    "version": 2
   },
   "file_extension": ".py",
   "mimetype": "text/x-python",
   "name": "python",
   "nbconvert_exporter": "python",
   "pygments_lexer": "ipython2",
   "version": "2.7.6"
  }
 },
 "nbformat": 4,
 "nbformat_minor": 5
}
